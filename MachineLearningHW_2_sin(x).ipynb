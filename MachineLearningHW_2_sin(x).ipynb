{
 "cells": [
  {
   "cell_type": "markdown",
   "id": "f7919a27-d743-4d11-9f0d-7c167ed94e6e",
   "metadata": {},
   "source": [
    "# 用五维梯度下降拟合函数sin(x)"
   ]
  },
  {
   "cell_type": "code",
   "execution_count": 898,
   "id": "6595ddfa-b235-4df9-b3bc-53b64b444927",
   "metadata": {},
   "outputs": [],
   "source": [
    "import numpy as np\n",
    "import pandas as pd\n",
    "import matplotlib.pyplot as plt"
   ]
  },
  {
   "cell_type": "code",
   "execution_count": 899,
   "id": "a3e40826-afb2-4460-8ea0-92487219a868",
   "metadata": {},
   "outputs": [
    {
     "data": {
      "text/html": [
       "<div>\n",
       "<style scoped>\n",
       "    .dataframe tbody tr th:only-of-type {\n",
       "        vertical-align: middle;\n",
       "    }\n",
       "\n",
       "    .dataframe tbody tr th {\n",
       "        vertical-align: top;\n",
       "    }\n",
       "\n",
       "    .dataframe thead th {\n",
       "        text-align: right;\n",
       "    }\n",
       "</style>\n",
       "<table border=\"1\" class=\"dataframe\">\n",
       "  <thead>\n",
       "    <tr style=\"text-align: right;\">\n",
       "      <th></th>\n",
       "      <th>x</th>\n",
       "      <th>sin(x)</th>\n",
       "    </tr>\n",
       "  </thead>\n",
       "  <tbody>\n",
       "    <tr>\n",
       "      <th>0</th>\n",
       "      <td>0.000000</td>\n",
       "      <td>0.000000e+00</td>\n",
       "    </tr>\n",
       "    <tr>\n",
       "      <th>1</th>\n",
       "      <td>0.006289</td>\n",
       "      <td>6.289433e-03</td>\n",
       "    </tr>\n",
       "    <tr>\n",
       "      <th>2</th>\n",
       "      <td>0.012579</td>\n",
       "      <td>1.257862e-02</td>\n",
       "    </tr>\n",
       "    <tr>\n",
       "      <th>3</th>\n",
       "      <td>0.018868</td>\n",
       "      <td>1.886730e-02</td>\n",
       "    </tr>\n",
       "    <tr>\n",
       "      <th>4</th>\n",
       "      <td>0.025158</td>\n",
       "      <td>2.515525e-02</td>\n",
       "    </tr>\n",
       "    <tr>\n",
       "      <th>...</th>\n",
       "      <td>...</td>\n",
       "      <td>...</td>\n",
       "    </tr>\n",
       "    <tr>\n",
       "      <th>995</th>\n",
       "      <td>6.258027</td>\n",
       "      <td>-2.515525e-02</td>\n",
       "    </tr>\n",
       "    <tr>\n",
       "      <th>996</th>\n",
       "      <td>6.264317</td>\n",
       "      <td>-1.886730e-02</td>\n",
       "    </tr>\n",
       "    <tr>\n",
       "      <th>997</th>\n",
       "      <td>6.270606</td>\n",
       "      <td>-1.257862e-02</td>\n",
       "    </tr>\n",
       "    <tr>\n",
       "      <th>998</th>\n",
       "      <td>6.276896</td>\n",
       "      <td>-6.289433e-03</td>\n",
       "    </tr>\n",
       "    <tr>\n",
       "      <th>999</th>\n",
       "      <td>6.283185</td>\n",
       "      <td>-2.449294e-16</td>\n",
       "    </tr>\n",
       "  </tbody>\n",
       "</table>\n",
       "<p>1000 rows × 2 columns</p>\n",
       "</div>"
      ],
      "text/plain": [
       "            x        sin(x)\n",
       "0    0.000000  0.000000e+00\n",
       "1    0.006289  6.289433e-03\n",
       "2    0.012579  1.257862e-02\n",
       "3    0.018868  1.886730e-02\n",
       "4    0.025158  2.515525e-02\n",
       "..        ...           ...\n",
       "995  6.258027 -2.515525e-02\n",
       "996  6.264317 -1.886730e-02\n",
       "997  6.270606 -1.257862e-02\n",
       "998  6.276896 -6.289433e-03\n",
       "999  6.283185 -2.449294e-16\n",
       "\n",
       "[1000 rows x 2 columns]"
      ]
     },
     "execution_count": 899,
     "metadata": {},
     "output_type": "execute_result"
    }
   ],
   "source": [
    "x_values = np.linspace(0, 2 * np.pi, 1000)\n",
    "#计算对应的sin(x)值\n",
    "sin_values = np.sin(x_values)\n",
    "#创建DataFrame\n",
    "data = pd.DataFrame({\n",
    "    'x': x_values,\n",
    "    'sin(x)': sin_values\n",
    "})\n",
    "data.head(1000)"
   ]
  },
  {
   "cell_type": "code",
   "execution_count": 900,
   "id": "2059b0b4-f729-4a63-a1d6-67508f5789a2",
   "metadata": {},
   "outputs": [],
   "source": [
    "data_x = pd.DataFrame(data, columns=['x'])\n",
    "data_y = pd.DataFrame(data, columns=['sin(x)'])"
   ]
  },
  {
   "cell_type": "code",
   "execution_count": 901,
   "id": "cd92b33b-43ef-4ea6-bb02-1940afd712c3",
   "metadata": {},
   "outputs": [
    {
     "data": {
      "text/html": [
       "<div>\n",
       "<style scoped>\n",
       "    .dataframe tbody tr th:only-of-type {\n",
       "        vertical-align: middle;\n",
       "    }\n",
       "\n",
       "    .dataframe tbody tr th {\n",
       "        vertical-align: top;\n",
       "    }\n",
       "\n",
       "    .dataframe thead th {\n",
       "        text-align: right;\n",
       "    }\n",
       "</style>\n",
       "<table border=\"1\" class=\"dataframe\">\n",
       "  <thead>\n",
       "    <tr style=\"text-align: right;\">\n",
       "      <th></th>\n",
       "      <th>x^0</th>\n",
       "      <th>x^1</th>\n",
       "      <th>x^2</th>\n",
       "      <th>x^3</th>\n",
       "      <th>x^4</th>\n",
       "      <th>x^5</th>\n",
       "    </tr>\n",
       "  </thead>\n",
       "  <tbody>\n",
       "    <tr>\n",
       "      <th>0</th>\n",
       "      <td>1</td>\n",
       "      <td>0.000000</td>\n",
       "      <td>0.000000</td>\n",
       "      <td>0.000000e+00</td>\n",
       "      <td>0.000000e+00</td>\n",
       "      <td>0.000000e+00</td>\n",
       "    </tr>\n",
       "    <tr>\n",
       "      <th>1</th>\n",
       "      <td>1</td>\n",
       "      <td>0.006289</td>\n",
       "      <td>0.000040</td>\n",
       "      <td>2.487959e-07</td>\n",
       "      <td>1.564795e-09</td>\n",
       "      <td>9.841740e-12</td>\n",
       "    </tr>\n",
       "    <tr>\n",
       "      <th>2</th>\n",
       "      <td>1</td>\n",
       "      <td>0.012579</td>\n",
       "      <td>0.000158</td>\n",
       "      <td>1.990367e-06</td>\n",
       "      <td>2.503672e-08</td>\n",
       "      <td>3.149357e-10</td>\n",
       "    </tr>\n",
       "    <tr>\n",
       "      <th>3</th>\n",
       "      <td>1</td>\n",
       "      <td>0.018868</td>\n",
       "      <td>0.000356</td>\n",
       "      <td>6.717488e-06</td>\n",
       "      <td>1.267484e-07</td>\n",
       "      <td>2.391543e-09</td>\n",
       "    </tr>\n",
       "    <tr>\n",
       "      <th>4</th>\n",
       "      <td>1</td>\n",
       "      <td>0.025158</td>\n",
       "      <td>0.000633</td>\n",
       "      <td>1.592293e-05</td>\n",
       "      <td>4.005876e-07</td>\n",
       "      <td>1.007794e-08</td>\n",
       "    </tr>\n",
       "  </tbody>\n",
       "</table>\n",
       "</div>"
      ],
      "text/plain": [
       "   x^0       x^1       x^2           x^3           x^4           x^5\n",
       "0    1  0.000000  0.000000  0.000000e+00  0.000000e+00  0.000000e+00\n",
       "1    1  0.006289  0.000040  2.487959e-07  1.564795e-09  9.841740e-12\n",
       "2    1  0.012579  0.000158  1.990367e-06  2.503672e-08  3.149357e-10\n",
       "3    1  0.018868  0.000356  6.717488e-06  1.267484e-07  2.391543e-09\n",
       "4    1  0.025158  0.000633  1.592293e-05  4.005876e-07  1.007794e-08"
      ]
     },
     "execution_count": 901,
     "metadata": {},
     "output_type": "execute_result"
    }
   ],
   "source": [
    "data_x_5 = pd.DataFrame({\n",
    "    'x^1': data_x['x'],\n",
    "    'x^2': data_x['x'] ** 2,\n",
    "    'x^3': data_x['x'] ** 3,\n",
    "    'x^4': data_x['x'] ** 4,\n",
    "    'x^5': data_x['x'] ** 5\n",
    "})\n",
    "data_x_5.insert(0, \"x^0\", 1)\n",
    "data_x_5.head()"
   ]
  },
  {
   "cell_type": "markdown",
   "id": "2ea0be14-ad95-4892-8b2d-759e584df809",
   "metadata": {},
   "source": [
    "## 初始化theta,初始的theta全为sin(x)的泰勒展开式前几项系数"
   ]
  },
  {
   "cell_type": "code",
   "execution_count": 902,
   "id": "8e89e9c1-e03f-4215-a45c-9f1d3f76d8a7",
   "metadata": {},
   "outputs": [
    {
     "data": {
      "text/plain": [
       "matrix([[ 0.00000000e+00,  1.00000000e+00,  0.00000000e+00,\n",
       "         -1.66666600e-01,  0.00000000e+00,  7.57575758e-04]])"
      ]
     },
     "execution_count": 902,
     "metadata": {},
     "output_type": "execute_result"
    }
   ],
   "source": [
    "theta = np.matrix(np.array([0,1,0,-0.1666666,0,7.575757575757576e-4]))\n",
    "theta"
   ]
  },
  {
   "cell_type": "markdown",
   "id": "3163a582-6402-47e1-a28b-6af6d295cff3",
   "metadata": {},
   "source": [
    "## 一个计算误差的函数"
   ]
  },
  {
   "cell_type": "code",
   "execution_count": 903,
   "id": "a56f8d47-969b-41b6-be3d-1ac759ad83a4",
   "metadata": {},
   "outputs": [],
   "source": [
    "def computeCost(x, y, theta):\n",
    "    inner = np.power(((x*theta.T)-y),2)\n",
    "    return np.sum(inner)/(2*len(x))"
   ]
  },
  {
   "cell_type": "code",
   "execution_count": 904,
   "id": "f8fa77f1-4e04-49e1-a27f-c5079d0fcd1d",
   "metadata": {},
   "outputs": [
    {
     "data": {
      "text/plain": [
       "48.27896842951903"
      ]
     },
     "execution_count": 904,
     "metadata": {},
     "output_type": "execute_result"
    }
   ],
   "source": [
    "computeCost(data_x_5.values,data_y.values,theta)"
   ]
  },
  {
   "cell_type": "markdown",
   "id": "11028db8-944e-4e3d-94f9-a2049aaa4efb",
   "metadata": {},
   "source": [
    "## 梯度下降"
   ]
  },
  {
   "cell_type": "code",
   "execution_count": 905,
   "id": "3dbf8cc0-e292-4631-9970-4a379df2c08a",
   "metadata": {},
   "outputs": [],
   "source": [
    "def gradientDescent(x, y, theta, alpha, iters):\n",
    "    cost = np.zeros(iters)\n",
    "    m = len(y)  # 样本数量\n",
    "    for i in range(iters):\n",
    "        #计算预测值\n",
    "        predictions = x @ theta.T  # 矩阵乘法\n",
    "        #计算误差\n",
    "        error = predictions - y\n",
    "        #计算梯度\n",
    "        gradient = (alpha / m) * (error.T @ x)\n",
    "        #更新 theta\n",
    "        theta = theta - gradient\n",
    "        #记录当前迭代的损失值\n",
    "        cost[i] = computeCost(x, y, theta)\n",
    "    return theta, cost"
   ]
  },
  {
   "cell_type": "code",
   "execution_count": 906,
   "id": "3cb39b7a-594b-4784-bcf4-41bafd9562d2",
   "metadata": {},
   "outputs": [
    {
     "data": {
      "text/plain": [
       "matrix([[-0.00459479,  0.98903098, -0.02156552, -0.19024656,  0.03786693,\n",
       "         -0.00171847]])"
      ]
     },
     "execution_count": 906,
     "metadata": {},
     "output_type": "execute_result"
    }
   ],
   "source": [
    "alpha = 0.0000001#学习率\n",
    "iters = 1000000#次数\n",
    "g,cost=gradientDescent(data_x_5.values,data_y.values,theta,alpha,iters)\n",
    "g"
   ]
  },
  {
   "cell_type": "code",
   "execution_count": 907,
   "id": "72b6c624-dd73-4158-a3b4-e7e69615c767",
   "metadata": {},
   "outputs": [
    {
     "data": {
      "text/plain": [
       "0.0054403826257063805"
      ]
     },
     "execution_count": 907,
     "metadata": {},
     "output_type": "execute_result"
    }
   ],
   "source": [
    "computeCost(data_x_5.values,data_y.values,g)"
   ]
  },
  {
   "cell_type": "code",
   "execution_count": 908,
   "id": "8fe23dcb-4562-43e0-a928-0870a2285618",
   "metadata": {},
   "outputs": [
    {
     "data": {
      "image/png": "[encoded data removed]",
      "text/plain": [
       "<Figure size 1000x600 with 1 Axes>"
      ]
     },
     "metadata": {},
     "output_type": "display_data"
    }
   ],
   "source": [
    "# 生成 x 值，从 0 到 2π\n",
    "x = np.linspace(0, 2 * np.pi, 100)\n",
    "# 计算对应的 sin(x) 值\n",
    "y_sin = np.sin(x)\n",
    "# 计算多项式的 y 值\n",
    "y_poly = (g[0, 0] * 1 + g[0, 1] * x + g[0, 2] * x**2 +\n",
    "          g[0, 3] * x**3 + g[0, 4] * x**4 + g[0, 5] * x**5)\n",
    "# 创建图形\n",
    "plt.figure(figsize=(10, 6))\n",
    "# 绘制 sin(x) 曲线\n",
    "plt.plot(x, y_sin, label='sin(x)', color='b')\n",
    "# 绘制多项式曲线\n",
    "plt.plot(x, y_poly, label='Polynomial Fit', color='r')\n",
    "# 添加标题和标签\n",
    "plt.title('Plot of sin(x) and Polynomial Fit')\n",
    "plt.xlabel('x (radians)')\n",
    "plt.ylabel('y')\n",
    "plt.axhline(0, color='black', linewidth=0.5, ls='--')  # x 轴\n",
    "plt.axvline(0, color='black', linewidth=0.5, ls='--')  # y 轴\n",
    "plt.grid(color='gray', linestyle='--', linewidth=0.5)\n",
    "plt.legend()\n",
    "# 显示图形\n",
    "plt.show()"
   ]
  },
  {
   "cell_type": "code",
   "execution_count": null,
   "id": "0e09c7e8-af94-423e-9d05-5c41b88afd4a",
   "metadata": {},
   "outputs": [],
   "source": []
  }
 ],
 "metadata": {
  "kernelspec": {
   "display_name": "Python 3 (ipykernel)",
   "language": "python",
   "name": "python3"
  },
  "language_info": {
   "codemirror_mode": {
    "name": "ipython",
    "version": 3
   },
   "file_extension": ".py",
   "mimetype": "text/x-python",
   "name": "python",
   "nbconvert_exporter": "python",
   "pygments_lexer": "ipython3",
   "version": "3.12.4"
  },
  "widgets": {
   "application/vnd.jupyter.widget-state+json": {
    "state": {},
    "version_major": 2,
    "version_minor": 0
   }
  }
 },
 "nbformat": 4,
 "nbformat_minor": 5
}
